{
 "cells": [
  {
   "cell_type": "markdown",
   "id": "72796071-42ae-4fb3-b4ed-afd06660725b",
   "metadata": {},
   "source": [
    "I've prepared a small subset of the FourSquare Open Source Places dataset (just based off a rough coordinate box, having looked at the other options and found them likely to lose data)."
   ]
  },
  {
   "cell_type": "markdown",
   "id": "112e31fb-1bc7-4818-b56f-7926ff9c6585",
   "metadata": {},
   "source": [
    "## Initial mapping\n",
    "\n",
    "Firstly, here is a simple map of London. Uncomment the final lines to show the map (you may also need to `.head()` the `london_places` variable assignment to lower the load on your CPU).\n",
    "\n",
    "I used this to determine the coordinates I wanted to consider as 'London' (a rectangle going from Putney in the West to Greenwich in the East, and Tottenham in the North to Streatham in the South)."
   ]
  },
  {
   "cell_type": "code",
   "execution_count": 1,
   "id": "5596305b-a7e4-4eb1-b749-845c6cfbbbf7",
   "metadata": {},
   "outputs": [],
   "source": [
    "import folium\n",
    "import polars as pl\n",
    "from london_analysis import load_london_places, load_places_geojson\n",
    "from folium.plugins import MarkerCluster\n",
    "\n",
    "london_places = load_london_places().select(pl.exclude(\"geom\", \"bbox\"))\n",
    "geojson_data = load_places_geojson(london_places)\n",
    "\n",
    "def make_markers(places: pl.DataFrame) -> folium.GeoJson:\n",
    "    return folium.GeoJsonTooltip(\n",
    "        fields=list(places.columns),  # Display the \"name\" property on hover\n",
    "        aliases=[k.title().replace(\"Po_\", \"PO_\").replace(\"_\", \" \") for k in places.columns],\n",
    "    )\n",
    "\n",
    "def make_map():\n",
    "    m = folium.Map(location=[51.5, -0.06], zoom_start=12)\n",
    "    # Add the GeoJSON layer to the map\n",
    "    folium.GeoJson(\n",
    "        geojson_data,\n",
    "        name=\"London Places\",\n",
    "        tooltip=make_markers(london_places),\n",
    "    ).add_to(m)\n",
    "    return m\n",
    "\n",
    "# m = make_map()\n",
    "# m"
   ]
  },
  {
   "cell_type": "markdown",
   "id": "b5fb0f9e-3f64-455a-a73d-cd81403e4661",
   "metadata": {},
   "source": [
    "## Filtering by category\n",
    "\n",
    "The all important feature in this dataset is the category labels. From this we can filter down the dataset to one more modest (thus possible to view as a human and with a limited amount of browser CPU power) as well as to tell how complete the dataset actually is.\n",
    "\n",
    "Note here that it's important to handle the null case separately (in this dataset, or at least how Polars loads it, `null` is used to represent no category labels instead of an empty list).\n",
    "\n",
    "Clicking on the drop down box will update the map to show only the places in that category (80% have 1 category label, 11% have none, 6% have 2, under 2% have 3)."
   ]
  },
  {
   "cell_type": "code",
   "execution_count": 6,
   "id": "a54b9431-a291-409e-a321-f2f83178d7d8",
   "metadata": {},
   "outputs": [],
   "source": [
    "from ipywidgets import interact, Dropdown\n",
    "\n",
    "# print(london_places.columns)\n",
    "\n",
    "def update_map(category):\n",
    "    m = folium.Map(location=[51.5, -0.06], zoom_start=12)\n",
    "    # Filter data by category\n",
    "    cat_col = pl.col(\"fsq_category_labels\")\n",
    "    if category == \"None\":\n",
    "        mask = cat_col.is_null()\n",
    "    else:\n",
    "        mask = cat_col.list.contains(category)\n",
    "    filtered_places = london_places.filter(mask)\n",
    "    print(f\"{len(filtered_places):,} places\")\n",
    "    filtered_geojson = load_places_geojson(filtered_places)\n",
    "    folium.GeoJson(\n",
    "        filtered_geojson,\n",
    "        name=\"Filtered London Places\",\n",
    "        tooltip=make_markers(filtered_places),\n",
    "    ).add_to(m)\n",
    "    return m\n",
    "\n",
    "unique_categories = london_places[\"fsq_category_labels\"].explode().unique().sort().fill_null(\"None\").to_list()\n",
    "# Interactive dropdown for category selection\n",
    "#  interact(\n",
    "#     update_map,\n",
    "#     category=Dropdown(\n",
    "#         options=unique_categories, \n",
    "#         description=\"Category:\", \n",
    "#         value=unique_categories[1]\n",
    "#     )\n",
    "# )\n",
    "# m"
   ]
  },
  {
   "cell_type": "markdown",
   "id": "aa6c6fa3-ae65-43af-b468-e0e6ef2be6c0",
   "metadata": {},
   "source": [
    "I've left that commented out for now as we can do even better: we can search the categories in a text box, to help find the ones we want. I do that here and make a small UI:"
   ]
  },
  {
   "cell_type": "code",
   "execution_count": 8,
   "id": "8e316bfb-0646-47b5-9755-82c7851dcb62",
   "metadata": {},
   "outputs": [
    {
     "data": {
      "application/vnd.jupyter.widget-view+json": {
       "model_id": "ec44ed3b07af4b5ab7824b610407869e",
       "version_major": 2,
       "version_minor": 0
      },
      "text/plain": [
       "interactive(children=(Dropdown(description='Category:', index=1, options=('None', 'Arts and Entertainment', 'A…"
      ]
     },
     "metadata": {},
     "output_type": "display_data"
    },
    {
     "data": {
      "application/vnd.jupyter.widget-view+json": {
       "model_id": "b6c2afce7b1f41be8afa98d42c64f358",
       "version_major": 2,
       "version_minor": 0
      },
      "text/plain": [
       "VBox(children=(Text(value='', description='Search:', placeholder='Type to search...'), Dropdown(description='C…"
      ]
     },
     "metadata": {},
     "output_type": "display_data"
    }
   ],
   "source": [
    "import folium\n",
    "import polars as pl\n",
    "from ipywidgets import interact, Dropdown, Text, VBox, HBox, Output\n",
    "from IPython.display import display, HTML\n",
    "from london_analysis import load_london_places, load_places_geojson\n",
    "\n",
    "# Load and preprocess the data\n",
    "london_places = load_london_places().select(pl.exclude(\"geom\", \"bbox\"))\n",
    "\n",
    "# Outputs for the map and the DataFrame\n",
    "map_output = Output()\n",
    "df_output = Output()\n",
    "\n",
    "# Function to update both map and DataFrame\n",
    "def update_map_and_df(category):\n",
    "    with map_output:\n",
    "        map_output.clear_output()  # Clear previous map\n",
    "        m = folium.Map(location=[51.5, -0.06], zoom_start=12)\n",
    "        \n",
    "        cat_col = pl.col(\"fsq_category_labels\")\n",
    "        if category == \"None\":\n",
    "            mask = cat_col.is_null()\n",
    "        else:\n",
    "            mask = cat_col.list.contains(category)\n",
    "        filtered_places = london_places.filter(mask)\n",
    "        \n",
    "        # Display filtered places count\n",
    "        print(f\"{len(filtered_places):,} places\")\n",
    "\n",
    "        filtered_geojson = load_places_geojson(filtered_places)\n",
    "        folium.GeoJson(\n",
    "            filtered_geojson,\n",
    "            name=\"Filtered London Places\",\n",
    "            tooltip=make_markers(filtered_places),\n",
    "        ).add_to(m)\n",
    "        display(m)  # Display map in the output widget\n",
    "    \n",
    "    with df_output:\n",
    "        df_output.clear_output()  # Clear previous DataFrame\n",
    "        display(HTML(filtered_places.to_pandas().to_html(index=False)))\n",
    "\n",
    "# Create a list of unique categories\n",
    "unique_categories = london_places[\"fsq_category_labels\"].explode().unique().sort().fill_null(\"None\").to_list()\n",
    "\n",
    "# Create a text input widget for searching categories\n",
    "search_box = Text(\n",
    "    placeholder=\"Type to search...\",\n",
    "    description=\"Search:\",\n",
    "    continuous_update=True\n",
    ")\n",
    "\n",
    "# Function to filter categories based on search input\n",
    "def filter_categories(change):\n",
    "    search_text = change[\"new\"].lower()\n",
    "    filtered_options = [cat for cat in unique_categories if search_text in cat.lower()]\n",
    "    category_dropdown.options = filtered_options\n",
    "\n",
    "# Create a dropdown widget to select categories\n",
    "category_dropdown = Dropdown(\n",
    "    options=unique_categories,\n",
    "    description=\"Category:\",\n",
    "    value=unique_categories[1]  # Default value\n",
    ")\n",
    "\n",
    "# Attach the filter function to the search box input\n",
    "search_box.observe(filter_categories, names=\"value\")\n",
    "\n",
    "# Interactive widget for map and DataFrame\n",
    "interact(update_map_and_df, category=category_dropdown)\n",
    "\n",
    "# Arrange widgets and outputs in a layout\n",
    "ui = VBox([search_box, category_dropdown, VBox([map_output, df_output])])\n",
    "\n",
    "# Display the UI\n",
    "display(ui)\n"
   ]
  }
 ],
 "metadata": {
  "kernelspec": {
   "display_name": "Python 3 (ipykernel)",
   "language": "python",
   "name": "python3"
  },
  "language_info": {
   "codemirror_mode": {
    "name": "ipython",
    "version": 3
   },
   "file_extension": ".py",
   "mimetype": "text/x-python",
   "name": "python",
   "nbconvert_exporter": "python",
   "pygments_lexer": "ipython3",
   "version": "3.13.0"
  }
 },
 "nbformat": 4,
 "nbformat_minor": 5
}
